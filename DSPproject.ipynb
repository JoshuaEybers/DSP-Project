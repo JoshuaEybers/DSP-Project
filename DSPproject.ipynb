{
 "cells": [
  {
   "cell_type": "code",
   "execution_count": 117,
   "metadata": {},
   "outputs": [],
   "source": [
    "import statistics \n",
    "import numpy as np\n",
    "from sklearn.datasets import make_classification \n",
    "from sklearn.model_selection import train_test_split\n",
    "import matplotlib.pyplot as plt\n",
    "from scipy import stats\n",
    "from scipy.spatial import distance"
   ]
  },
  {
   "cell_type": "code",
   "execution_count": 118,
   "metadata": {},
   "outputs": [],
   "source": [
    "x=[]\n",
    "o=[]\n",
    "p=[]\n",
    "f = open(\"iris.Data.txt\", \"r\")\n",
    "b=f.readlines()\n",
    "i=0\n",
    "X1 = np.empty(0)\n",
    "for j in range(len(b)):\n",
    "    s=b[j].split(\",\")\n",
    "    o.append(s[:4])\n",
    "    p.append(s[4:5])\n",
    "    if(i<141):\n",
    "        for w in range(4):\n",
    "            X1=np.append(X1,(float(o[i][w])))\n",
    "    i+=1\n",
    "\n",
    "X1=X1.reshape(141,4)\n",
    "f.close()"
   ]
  },
  {
   "cell_type": "code",
   "execution_count": 119,
   "metadata": {},
   "outputs": [],
   "source": [
    "Y1=[]\n",
    "for e in range(140):\n",
    "    if(p[e] == ['Iris-setosa\\n']):\n",
    "        Y1.append([1,0,0])\n",
    "       \n",
    "    if(p[e] == ['Iris-versicolor\\n']):\n",
    "        Y1.append([0,1,0])\n",
    "       \n",
    "    if(p[e] == ['Iris-virginica\\n']):\n",
    "        Y1.append([0,0,1])\n",
    "    \n"
   ]
  },
  {
   "cell_type": "code",
   "execution_count": 120,
   "metadata": {},
   "outputs": [],
   "source": [
    "i=0\n",
    "l=[]\n",
    "d=[]\n",
    "f = open(\"Ydata.txt\", \"r\")\n",
    "b=f.readlines()\n",
    "for j in range(len(b)):\n",
    "    \n",
    "    #print(b[j])\n",
    "    #print((b[j][:15]))\n",
    "    s=b[j].split(\",\")\n",
    "    l.append(s[:4])\n",
    "    d.append(s[4:5])\n",
    "    if(i<9):\n",
    "        for w in range(4):\n",
    "            l[i][w]=float(l[i][w])\n",
    "    i+=1\n",
    "\n",
    "X2=np.array(l)\n",
    "f.close()"
   ]
  },
  {
   "cell_type": "code",
   "execution_count": 121,
   "metadata": {},
   "outputs": [],
   "source": [
    "Y2=[]\n",
    "for e in range(9):\n",
    "    if(d[e] == ['Iris-setosa\\n']):\n",
    "        Y2.append([1,0,0])\n",
    "       \n",
    "    if(d[e] == ['Iris-versicolor\\n']):\n",
    "        Y2.append([0,1,0])\n",
    "       \n",
    "    if(d[e] == ['Iris-virginica\\n']):\n",
    "        Y2.append([0,0,1])\n",
    "    \n"
   ]
  },
  {
   "cell_type": "markdown",
   "metadata": {},
   "source": [
    "# Calculate euclidean distance"
   ]
  },
  {
   "cell_type": "code",
   "execution_count": 122,
   "metadata": {},
   "outputs": [],
   "source": [
    "def caldist(x1,Xtest):\n",
    "    distances=[]\n",
    "    ds=[]\n",
    "    for u in Xtest:\n",
    "        for r in range(len(x1)-1):\n",
    "            dst = distance.euclidean(x1[r], u)\n",
    "            ds.append(dst)\n",
    "        distances.append(ds)\n",
    "        ds=[]\n",
    "    \n",
    "    return distances\n"
   ]
  },
  {
   "cell_type": "code",
   "execution_count": 123,
   "metadata": {},
   "outputs": [],
   "source": [
    "k=4\n",
    "def dissort(dis):\n",
    "    sortdis=[]\n",
    "    for u in dis:\n",
    "        sortdis.append((np.argsort(u))[0:k])\n",
    "    return sortdis"
   ]
  },
  {
   "cell_type": "code",
   "execution_count": 124,
   "metadata": {},
   "outputs": [],
   "source": [
    "def predict(ls, Y_in ):\n",
    "    preds=[]\n",
    "    y=[]\n",
    "    for i in range(len(ls)):\n",
    "        for b in ls[i]:\n",
    "            y.append(Y_in[b])  \n",
    "        preds.append(stats.mode(y)[0])\n",
    "        y=[]\n",
    "    \n",
    "    return preds"
   ]
  },
  {
   "cell_type": "code",
   "execution_count": 125,
   "metadata": {},
   "outputs": [],
   "source": [
    "def accur(Y_pred, Y_test):\n",
    "    b = 0\n",
    "    acc = 0\n",
    "    num=len(Y_pred)\n",
    "    c = num\n",
    "    print(c)\n",
    "    for i in range(len(Y_pred)):\n",
    "        b = distance.euclidean(Y_pred[i], Y_test[i])\n",
    "        if(b!=0):\n",
    "            c -= 1\n",
    "    acc = (c/num)*100\n",
    "    return acc\n",
    "    "
   ]
  },
  {
   "cell_type": "code",
   "execution_count": null,
   "metadata": {},
   "outputs": [],
   "source": []
  },
  {
   "cell_type": "code",
   "execution_count": 126,
   "metadata": {},
   "outputs": [
    {
     "name": "stdout",
     "output_type": "stream",
     "text": [
      "[array([[0, 0, 1]]), array([[0, 0, 1]]), array([[0, 0, 1]]), array([[0, 1, 0]]), array([[0, 1, 0]]), array([[0, 1, 0]]), array([[1, 0, 0]]), array([[1, 0, 0]]), array([[1, 0, 0]])]\n",
      "9\n",
      "100.0\n"
     ]
    }
   ],
   "source": [
    "l=caldist(X1,X2)\n",
    "m= dissort(l)\n",
    "t=predict(m,Y1)\n",
    "print(t)\n",
    "s = accur(t,Y2)\n",
    "print(s)"
   ]
  },
  {
   "cell_type": "markdown",
   "metadata": {},
   "source": [
    "# Minowski distance "
   ]
  },
  {
   "cell_type": "code",
   "execution_count": 1,
   "metadata": {},
   "outputs": [],
   "source": [
    "def caldistmin(x1,Xtest,p):\n",
    "    distances=[]\n",
    "    ds=[]\n",
    "    for u in Xtest:\n",
    "        for r in range(len(x1)-1):\n",
    "            dst = distance.minkowski(x1[r], u,p)\n",
    "            ds.append(dst)\n",
    "        distances.append(ds)\n",
    "        ds=[]\n",
    "    \n",
    "    return distances"
   ]
  },
  {
   "cell_type": "code",
   "execution_count": 15,
   "metadata": {},
   "outputs": [
    {
     "name": "stdout",
     "output_type": "stream",
     "text": [
      "[array([[0, 0, 1]]), array([[0, 0, 1]]), array([[0, 0, 1]]), array([[0, 1, 0]]), array([[0, 1, 0]]), array([[0, 1, 0]]), array([[1, 0, 0]]), array([[1, 0, 0]]), array([[1, 0, 0]])]\n",
      "9\n",
      "100.0\n"
     ]
    }
   ],
   "source": [
    "L=caldistmin(X1,X2,10)\n",
    "M= dissort(L)\n",
    "T=predict(M,Y1)\n",
    "print(T)\n",
    "s = accur(T,Y2)\n",
    "print(s)"
   ]
  },
  {
   "cell_type": "markdown",
   "metadata": {},
   "source": [
    "# calculate mahalanobis distance"
   ]
  },
  {
   "cell_type": "code",
   "execution_count": 190,
   "metadata": {},
   "outputs": [
    {
     "name": "stdout",
     "output_type": "stream",
     "text": [
      "[[ 10.49806841  -6.71837952  -7.26707883   5.54994247]\n",
      " [ -6.71837952  11.00150952   6.49723271  -6.32930355]\n",
      " [ -7.26707883   6.49723271   9.96757171 -14.43211674]\n",
      " [  5.54994247  -6.32930355 -14.43211674  27.5887272 ]]\n"
     ]
    }
   ],
   "source": [
    "#calc inverse covariance of x\n",
    "cov = np.cov(X1.T)\n",
    "inv = np.linalg.inv(cov)\n",
    "print(inv)"
   ]
  },
  {
   "cell_type": "code",
   "execution_count": 112,
   "metadata": {},
   "outputs": [],
   "source": [
    "def calmdist(x1,Xtest,inv):\n",
    "    distances=[]\n",
    "    ds=[]\n",
    "    for u in Xtest:\n",
    "        for r in range(len(x1)-1):\n",
    "            dst = distance.mahalanobis(x1[r], u, inv)\n",
    "            ds.append(dst)\n",
    "        distances.append(ds)\n",
    "        ds=[]\n",
    "    \n",
    "    return distances"
   ]
  },
  {
   "cell_type": "code",
   "execution_count": 192,
   "metadata": {},
   "outputs": [
    {
     "name": "stdout",
     "output_type": "stream",
     "text": [
      "[array([[0, 0, 1]]), array([[0, 0, 1]]), array([[0, 0, 1]]), array([[0, 1, 0]]), array([[0, 1, 0]]), array([[0, 1, 0]]), array([[1, 0, 0]]), array([[1, 0, 0]]), array([[1, 0, 0]])]\n",
      "9\n",
      "100.0\n"
     ]
    }
   ],
   "source": [
    "E=calmdist(X1,X2,inv)\n",
    "n= dissort(E)\n",
    "t1=predict(n,Y1)\n",
    "print(t1)\n",
    "s1 = accur(t1,Y2)\n",
    "print(s1)"
   ]
  },
  {
   "cell_type": "markdown",
   "metadata": {},
   "source": [
    "# dataset 2"
   ]
  },
  {
   "cell_type": "markdown",
   "metadata": {},
   "source": [
    "note: in this dataset there are 16 cases out of the 699 that have a missing value.this issue was resolved by setting the missing value to zero"
   ]
  },
  {
   "cell_type": "code",
   "execution_count": 16,
   "metadata": {},
   "outputs": [
    {
     "name": "stdout",
     "output_type": "stream",
     "text": [
      "679\n",
      "679\n",
      "(6111,)\n"
     ]
    }
   ],
   "source": [
    "x=[]\n",
    "o=[]\n",
    "p=[]\n",
    "f = open(\"cancer/training.txt\", \"r\")\n",
    "b=f.readlines()\n",
    "print(len(b))\n",
    "i=0\n",
    "Xc1 = np.empty(0)\n",
    "for j in range(len(b)):\n",
    "    lens=len(b[j])\n",
    "    s=b[j][:lens-2]\n",
    "    o.append(s.split(\",\"))\n",
    "    p.append(int(b[j][lens-2:lens]))\n",
    "    #print(s)\n",
    "print(len(o))\n",
    "for u in o:\n",
    "    q=len(u)\n",
    "    x.append(u[1:q-1])\n",
    "\n",
    "#print(x)\n",
    "\n",
    "l=[]\n",
    "for y in x:\n",
    "    for w in y:\n",
    "        if (w=='?'):\n",
    "            l.append(0)\n",
    "        else:\n",
    "            l.append(int(w))\n",
    "\n",
    "Xc1=np.array(l)\n",
    "print(Xc1.shape)\n",
    "Xc1=Xc1.reshape(679,9)\n",
    "Yc1=p\n",
    "f.close()\n"
   ]
  },
  {
   "cell_type": "code",
   "execution_count": 17,
   "metadata": {},
   "outputs": [
    {
     "name": "stdout",
     "output_type": "stream",
     "text": [
      "[[ 1  1  1  1  1  1  3  1  1]\n",
      " [ 2  1  1  1  2  1  2  1  1]\n",
      " [ 5  3  3  3  2  3  4  4  1]\n",
      " [ 2  1  3  2  2  1  2  1  1]\n",
      " [ 5  1  1  1  2  1  2  1  1]\n",
      " [ 6 10 10 10  4 10  7 10  1]\n",
      " [ 1  2  2  1  2  1  1  1  1]\n",
      " [ 1  1  1  3  2  1  1  1  1]\n",
      " [ 5 10 10 10 10  2 10 10 10]\n",
      " [ 5 10 10 10  4 10  5  6  3]\n",
      " [ 5  1  1  1  2  1  3  2  1]\n",
      " [ 1  1  1  1  2  1  1  1  1]\n",
      " [ 1  1  1  1  2  1  1  1  1]\n",
      " [ 1  1  1  1  2  1  1  1  1]\n",
      " [ 8  7  8  5 10 10  7  2  1]\n",
      " [ 1  1  1  1  2  1  2  1  1]\n",
      " [ 5  2  2  2  2  2  3  2  2]\n",
      " [ 2  3  1  1  5  1  1  1  1]\n",
      " [ 3  2  2  3  2  3  3  1  1]\n",
      " [10 10 10  6  8  4  8  5  1]]\n",
      "[2, 2, 4, 2, 2, 4, 2, 2, 4, 4, 2, 2, 2, 2, 4, 2, 2, 2, 2, 4]\n"
     ]
    }
   ],
   "source": [
    "x=[]\n",
    "o=[]\n",
    "p=[]\n",
    "f = open(\"cancer/tests.txt\", \"r\")\n",
    "b=f.readlines()\n",
    "Xc_t1 = np.empty(0)\n",
    "for j in range(len(b)):\n",
    "    lens=len(b[j])\n",
    "    s=b[j][:lens-2]\n",
    "    o.append(s.split(\",\"))\n",
    "    p.append(int((b[j][lens-2:lens-1])))\n",
    "\n",
    "for u in o:\n",
    "    q=len(u)\n",
    "    x.append(u[1:q-1])\n",
    "l=[]\n",
    "for y in x:\n",
    "    for w in y:\n",
    "        if (w=='?'):\n",
    "            l.append(0)\n",
    "        else:\n",
    "            l.append(int(w))\n",
    "\n",
    "Xc_t1=np.array(l)\n",
    "Xc_t1=Xc_t1.reshape(20,9)\n",
    "Yc_t1=p\n",
    "print(Xc_t1)\n",
    "print(Yc_t1)\n",
    "\n",
    "f.close()"
   ]
  },
  {
   "cell_type": "code",
   "execution_count": 18,
   "metadata": {},
   "outputs": [
    {
     "name": "stdout",
     "output_type": "stream",
     "text": [
      "[array([2]), array([2]), array([2]), array([2]), array([2]), array([4]), array([2]), array([2]), array([4]), array([4]), array([2]), array([2]), array([2]), array([2]), array([4]), array([2]), array([2]), array([2]), array([2]), array([4])]\n",
      "20\n",
      "95.0\n"
     ]
    }
   ],
   "source": [
    "l=caldist(Xc1,Xc_t1)\n",
    "m= dissort(l)\n",
    "t=predict(m,Yc1)\n",
    "print(t)\n",
    "s = accur(t,Yc_t1)\n",
    "print(s)"
   ]
  },
  {
   "cell_type": "code",
   "execution_count": 21,
   "metadata": {},
   "outputs": [
    {
     "name": "stdout",
     "output_type": "stream",
     "text": [
      "[array([2]), array([2]), array([2]), array([2]), array([2]), array([4]), array([2]), array([2]), array([4]), array([4]), array([2]), array([2]), array([2]), array([2]), array([4]), array([2]), array([2]), array([2]), array([2]), array([4])]\n",
      "20\n",
      "95.0\n"
     ]
    }
   ],
   "source": [
    "l=caldistmin(Xc1,Xc_t1,10)\n",
    "m= dissort(l)\n",
    "t=predict(m,Yc1)\n",
    "print(t)\n",
    "s = accur(t,Yc_t1)\n",
    "print(s)"
   ]
  },
  {
   "cell_type": "markdown",
   "metadata": {},
   "source": [
    "# dataset 2 mahalanobis"
   ]
  },
  {
   "cell_type": "code",
   "execution_count": 189,
   "metadata": {},
   "outputs": [
    {
     "name": "stdout",
     "output_type": "stream",
     "text": [
      "[[ 0.24090917 -0.04444754 -0.05888884  0.01667788  0.00219592 -0.04308261\n",
      "  -0.0128902  -0.01477241 -0.02417398]\n",
      " [-0.04444754  0.759459   -0.45930565 -0.06509149 -0.15591478  0.01351662\n",
      "  -0.11669806 -0.03639994 -0.03095096]\n",
      " [-0.05888884 -0.45930565  0.72326742 -0.0054962  -0.03971984 -0.06329771\n",
      "  -0.02966834 -0.06280375 -0.00085625]\n",
      " [ 0.01667788 -0.06509149 -0.0054962   0.29694155 -0.02465248 -0.06508981\n",
      "  -0.06723626 -0.02069857 -0.04447548]\n",
      " [ 0.00219592 -0.15591478 -0.03971984 -0.02465248  0.52696741 -0.02181746\n",
      "  -0.00769176 -0.04681091 -0.09527598]\n",
      " [-0.04308261  0.01351662 -0.06329771 -0.06508981 -0.02181746  0.19010304\n",
      "  -0.0629727   0.00353154  0.00431797]\n",
      " [-0.0128902  -0.11669806 -0.02966834 -0.06723626 -0.00769176 -0.0629727\n",
      "   0.4790827  -0.06907704  0.04685202]\n",
      " [-0.01477241 -0.03639994 -0.06280375 -0.02069857 -0.04681091  0.00353154\n",
      "  -0.06907704  0.25871233 -0.03680485]\n",
      " [-0.02417398 -0.03095096 -0.00085625 -0.04447548 -0.09527598  0.00431797\n",
      "   0.04685202 -0.03680485  0.47460268]]\n"
     ]
    }
   ],
   "source": [
    "cov = np.cov(Xc1.T)\n",
    "inv1 = np.linalg.inv(cov)\n",
    "print(inv1)"
   ]
  },
  {
   "cell_type": "code",
   "execution_count": 193,
   "metadata": {},
   "outputs": [
    {
     "name": "stdout",
     "output_type": "stream",
     "text": [
      "[array([2]), array([2]), array([2]), array([2]), array([2]), array([4]), array([2]), array([2]), array([4]), array([4]), array([2]), array([2]), array([2]), array([2]), array([4]), array([2]), array([2]), array([2]), array([2]), array([4])]\n",
      "20\n",
      "95.0\n"
     ]
    }
   ],
   "source": [
    "E=calmdist(Xc1,Xc_t1,inv1)\n",
    "n= dissort(E)\n",
    "t1=predict(n,Yc1)\n",
    "print(t1)\n",
    "s1 = accur(t1,Yc_t1)\n",
    "print(s1)"
   ]
  },
  {
   "cell_type": "markdown",
   "metadata": {},
   "source": [
    "# Dataset 3"
   ]
  },
  {
   "cell_type": "code",
   "execution_count": 105,
   "metadata": {},
   "outputs": [
    {
     "name": "stdout",
     "output_type": "stream",
     "text": [
      "42\n"
     ]
    }
   ],
   "source": [
    "Y=[]\n",
    "o=[]\n",
    "p=[]\n",
    "e=[]\n",
    "f = open(\"Biodegradation/biodeg.csv\", \"r\")\n",
    "b=f.readlines()\n",
    "Xb1 = np.empty(0)\n",
    "for j in range(len(b)):\n",
    "    lens=len(b[j])\n",
    "    s=b[j].split(\";\")\n",
    "    o.append((b[j][:lens-4]))\n",
    "    p.append((b[j][lens-4:lens-1]))\n",
    "\n",
    "for u in p:\n",
    "    if(u==';RB'):\n",
    "        Y.append([1,0])\n",
    "    else:\n",
    "        Y.append([0,1])\n",
    "\n",
    "x=[]\n",
    "for u in o:\n",
    "    t=u.split(\";\")\n",
    "    x.append(t)\n",
    "print(len(t))\n",
    "\n",
    "\n",
    "for u in x:\n",
    "    for b in u:\n",
    "        if (b!=''):\n",
    "            e.append(float(b))\n",
    "\n",
    "X=np.array(e)\n",
    "X=X.reshape(1029,41)\n",
    "f.close()"
   ]
  },
  {
   "cell_type": "code",
   "execution_count": 104,
   "metadata": {},
   "outputs": [],
   "source": [
    "Y1=[]\n",
    "o=[]\n",
    "p=[]\n",
    "e=[]\n",
    "f = open(\"Biodegradation/Test.txt\", \"r\")\n",
    "b=f.readlines()\n",
    "for j in range(len(b)):\n",
    "    lens=len(b[j])\n",
    "    s=b[j].split(\";\")\n",
    "    o.append((b[j][:lens-4]))\n",
    "    p.append((b[j][lens-4:lens-1]))\n",
    "\n",
    "for u in p:\n",
    "    if(u==';RB'):\n",
    "        Y1.append([1,0])\n",
    "    else:\n",
    "        Y1.append([0,1])\n",
    "\n",
    "x=[]\n",
    "for u in o:\n",
    "    t=u.split(\";\")\n",
    "    x.append(t)\n",
    "\n",
    "i=0\n",
    "for u in x:\n",
    "    for b in u:\n",
    "        if (b!=''):\n",
    "            e.append(float(b))\n",
    "e.append(0)\n",
    "X1=np.array(e)\n",
    "X1=X1.reshape(26,41)\n",
    "\n",
    "f.close()"
   ]
  },
  {
   "cell_type": "markdown",
   "metadata": {},
   "source": [
    "# Euclidean distance"
   ]
  },
  {
   "cell_type": "code",
   "execution_count": 107,
   "metadata": {},
   "outputs": [
    {
     "name": "stdout",
     "output_type": "stream",
     "text": [
      "[array([[1, 0]]), array([[1, 0]]), array([[1, 0]]), array([[1, 0]]), array([[1, 0]]), array([[1, 0]]), array([[1, 0]]), array([[1, 0]]), array([[1, 0]]), array([[1, 0]]), array([[0, 1]]), array([[0, 1]]), array([[0, 1]]), array([[0, 1]]), array([[0, 1]]), array([[0, 1]]), array([[0, 1]]), array([[0, 1]]), array([[0, 1]]), array([[0, 1]]), array([[0, 1]]), array([[0, 1]]), array([[0, 1]]), array([[1, 0]]), array([[1, 0]]), array([[1, 0]])]\n",
      "26\n",
      "96.15384615384616\n"
     ]
    }
   ],
   "source": [
    "l=caldist(X,X1)\n",
    "m= dissort(l)\n",
    "t=predict(m,Y)\n",
    "print(t)\n",
    "s = accur(t,Y1)\n",
    "print(s)"
   ]
  },
  {
   "cell_type": "markdown",
   "metadata": {},
   "source": [
    "# Mahalonbis distance "
   ]
  },
  {
   "cell_type": "code",
   "execution_count": 109,
   "metadata": {},
   "outputs": [
    {
     "name": "stdout",
     "output_type": "stream",
     "text": [
      "[[ 90.80199796  -1.39342636  -2.13904133 ...  17.3518724   -1.27126149\n",
      "    0.78859067]\n",
      " [ -1.39342636   5.93201022   0.3454768  ...  -2.41466093   0.93289537\n",
      "   -1.21837931]\n",
      " [ -2.13904133   0.3454768    4.98619162 ...   0.14162162   0.6833829\n",
      "   -2.6333971 ]\n",
      " ...\n",
      " [ 17.3518724   -2.41466093   0.14162162 ... 119.06578138   0.83113555\n",
      "    0.45765851]\n",
      " [ -1.27126149   0.93289537   0.6833829  ...   0.83113555  12.82862085\n",
      "   -0.83797346]\n",
      " [  0.78859067  -1.21837931  -2.6333971  ...   0.45765851  -0.83797346\n",
      "    4.03189169]]\n"
     ]
    }
   ],
   "source": [
    "cov = np.cov(X.T)\n",
    "inv2 = np.linalg.inv(cov)\n",
    "print(inv2)"
   ]
  },
  {
   "cell_type": "code",
   "execution_count": 113,
   "metadata": {},
   "outputs": [
    {
     "name": "stdout",
     "output_type": "stream",
     "text": [
      "[array([[1, 0]]), array([[1, 0]]), array([[1, 0]]), array([[1, 0]]), array([[1, 0]]), array([[1, 0]]), array([[1, 0]]), array([[1, 0]]), array([[1, 0]]), array([[1, 0]]), array([[0, 1]]), array([[0, 1]]), array([[0, 1]]), array([[0, 1]]), array([[0, 1]]), array([[0, 1]]), array([[0, 1]]), array([[0, 1]]), array([[0, 1]]), array([[0, 1]]), array([[0, 1]]), array([[0, 1]]), array([[0, 1]]), array([[1, 0]]), array([[1, 0]]), array([[1, 0]])]\n",
      "26\n",
      "96.15384615384616\n"
     ]
    }
   ],
   "source": [
    "E=calmdist(X,X1,inv2)\n",
    "n= dissort(E)\n",
    "t1=predict(n,Y)\n",
    "print(t1)\n",
    "s1 = accur(t1,Y1)\n",
    "print(s1)"
   ]
  },
  {
   "cell_type": "markdown",
   "metadata": {},
   "source": [
    "# Minowski"
   ]
  },
  {
   "cell_type": "code",
   "execution_count": 115,
   "metadata": {},
   "outputs": [
    {
     "name": "stdout",
     "output_type": "stream",
     "text": [
      "[array([[1, 0]]), array([[1, 0]]), array([[1, 0]]), array([[1, 0]]), array([[1, 0]]), array([[1, 0]]), array([[1, 0]]), array([[0, 0]]), array([[1, 0]]), array([[1, 0]]), array([[0, 1]]), array([[0, 1]]), array([[0, 1]]), array([[0, 1]]), array([[0, 1]]), array([[0, 1]]), array([[0, 1]]), array([[0, 1]]), array([[0, 1]]), array([[0, 1]]), array([[0, 1]]), array([[0, 1]]), array([[0, 1]]), array([[1, 0]]), array([[1, 0]]), array([[1, 0]])]\n",
      "26\n",
      "92.3076923076923\n"
     ]
    }
   ],
   "source": [
    "l=caldistmin(X,X1,10)\n",
    "m= dissort(l)\n",
    "t=predict(m,Y)\n",
    "print(t)\n",
    "s = accur(t,Y1)\n",
    "print(s)"
   ]
  },
  {
   "cell_type": "code",
   "execution_count": 116,
   "metadata": {},
   "outputs": [
    {
     "name": "stdout",
     "output_type": "stream",
     "text": [
      "[array([[1, 0]]), array([[1, 0]]), array([[1, 0]]), array([[1, 0]]), array([[1, 0]]), array([[1, 0]]), array([[1, 0]]), array([[1, 0]]), array([[1, 0]]), array([[1, 0]]), array([[0, 1]]), array([[0, 1]]), array([[0, 1]]), array([[0, 1]]), array([[0, 1]]), array([[0, 1]]), array([[0, 1]]), array([[0, 1]]), array([[0, 1]]), array([[0, 1]]), array([[0, 1]]), array([[0, 1]]), array([[0, 1]]), array([[1, 0]]), array([[1, 0]]), array([[1, 0]])]\n",
      "26\n",
      "96.15384615384616\n"
     ]
    }
   ],
   "source": [
    "l=caldistmin(X,X1,1)\n",
    "m= dissort(l)\n",
    "t=predict(m,Y)\n",
    "print(t)\n",
    "s = accur(t,Y1)\n",
    "print(s)"
   ]
  }
 ],
 "metadata": {
  "kernelspec": {
   "display_name": "Python 3",
   "language": "python",
   "name": "python3"
  },
  "language_info": {
   "codemirror_mode": {
    "name": "ipython",
    "version": 3
   },
   "file_extension": ".py",
   "mimetype": "text/x-python",
   "name": "python",
   "nbconvert_exporter": "python",
   "pygments_lexer": "ipython3",
   "version": "3.6.5"
  }
 },
 "nbformat": 4,
 "nbformat_minor": 2
}
